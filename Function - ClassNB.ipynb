{
 "cells": [
  {
   "cell_type": "markdown",
   "id": "6a7941e9",
   "metadata": {},
   "source": [
    "# Chapter 8: Functions in Python"
   ]
  },
  {
   "cell_type": "markdown",
   "id": "9d8b91de",
   "metadata": {},
   "source": [
    "## Defining\n",
    "* A function is a block of code which only runs when it is called.\n",
    "\n",
    "* You can pass data, known as parameters, into a function.\n",
    "\n",
    "* A function can return data as a result."
   ]
  },
  {
   "cell_type": "markdown",
   "id": "6557ee86",
   "metadata": {},
   "source": [
    "### This is how you define a function in Python\n",
    "- def keyword\n",
    "- name of the function\n",
    "- (parameters) --> parameters can also be empty\n",
    "- body of the function"
   ]
  },
  {
   "cell_type": "code",
   "execution_count": 1,
   "id": "70b9c447",
   "metadata": {},
   "outputs": [
    {
     "name": "stdout",
     "output_type": "stream",
     "text": [
      "Hello World\n"
     ]
    }
   ],
   "source": [
    "def my_function():\n",
    "    print(\"Hello World\") \n",
    "\n",
    "my_function() # calling the function to get the output"
   ]
  },
  {
   "cell_type": "code",
   "execution_count": 2,
   "id": "0eaf6e94",
   "metadata": {},
   "outputs": [
    {
     "name": "stdout",
     "output_type": "stream",
     "text": [
      "16\n"
     ]
    }
   ],
   "source": [
    "def my_function2():\n",
    "    print(8*2)\n",
    "my_function2()"
   ]
  },
  {
   "cell_type": "markdown",
   "id": "5c361e5a",
   "metadata": {},
   "source": [
    "### Why we need function?"
   ]
  },
  {
   "cell_type": "code",
   "execution_count": 3,
   "id": "1e544009",
   "metadata": {},
   "outputs": [
    {
     "name": "stdout",
     "output_type": "stream",
     "text": [
      "2001 Newburg Road\n",
      "2001 Newburg Road\n",
      "2001 Newburg Road\n",
      "2001 Newburg Road\n",
      "2001 Newburg Road\n"
     ]
    }
   ],
   "source": [
    "print(\"2001 Newburg Road\")\n",
    "print(\"2001 Newburg Road\")\n",
    "print(\"2001 Newburg Road\")\n",
    "print(\"2001 Newburg Road\")\n",
    "print(\"2001 Newburg Road\")"
   ]
  },
  {
   "cell_type": "code",
   "execution_count": 4,
   "id": "3b3457c9",
   "metadata": {},
   "outputs": [
    {
     "name": "stdout",
     "output_type": "stream",
     "text": [
      "2001 Newburg Road\n",
      "2001 Newburg Road\n",
      "2001 Newburg Road\n",
      "2001 Newburg Road\n",
      "2001 Newburg Road\n"
     ]
    }
   ],
   "source": [
    "def address():\n",
    "    print(\"2001 Newburg Road\")\n",
    "address()\n",
    "address()\n",
    "address()\n",
    "address()\n",
    "address()"
   ]
  },
  {
   "cell_type": "markdown",
   "id": "d0f1621e",
   "metadata": {},
   "source": [
    "### Function with parameters"
   ]
  },
  {
   "cell_type": "markdown",
   "id": "08338a48",
   "metadata": {},
   "source": [
    "\n",
    "### The `return` statement: \n",
    "* Use inside a function or method to send the function’s result back to the caller. \n",
    "* A return statement consists of the `return` keyword followed by an optional return value\n",
    "\n",
    "* Three Ways to Return a Result to a Function’s Caller\n",
    "    * **`return`** followed by an expression.\n",
    "    * **`return`** without an expression implicitly returns **`None`**&mdash;represents the **absence of a value** and **evaluates to `False` in conditions**.\n",
    "    * **No `return` statement implicitly returns `None`**.\n"
   ]
  },
  {
   "cell_type": "code",
   "execution_count": 5,
   "id": "ba1b1005",
   "metadata": {},
   "outputs": [
    {
     "data": {
      "text/plain": [
       "4"
      ]
     },
     "execution_count": 5,
     "metadata": {},
     "output_type": "execute_result"
    }
   ],
   "source": [
    "def squared(number):\n",
    "    return (number**2)\n",
    "squared(2)"
   ]
  },
  {
   "cell_type": "code",
   "execution_count": 6,
   "id": "11e8e1ba",
   "metadata": {},
   "outputs": [
    {
     "data": {
      "text/plain": [
       "152399025"
      ]
     },
     "execution_count": 6,
     "metadata": {},
     "output_type": "execute_result"
    }
   ],
   "source": [
    "squared(12345)"
   ]
  },
  {
   "cell_type": "code",
   "execution_count": 7,
   "id": "203e3dfa",
   "metadata": {},
   "outputs": [
    {
     "data": {
      "text/plain": [
       "125"
      ]
     },
     "execution_count": 7,
     "metadata": {},
     "output_type": "execute_result"
    }
   ],
   "source": [
    "# Cube of numbers\n",
    "def cubed(number):\n",
    "    return (number**3)\n",
    "cubed(5)"
   ]
  },
  {
   "cell_type": "markdown",
   "id": "559ae13d",
   "metadata": {},
   "source": [
    "## Our own functions for practice\n",
    "`Echo` that will act same as print"
   ]
  },
  {
   "cell_type": "code",
   "execution_count": 8,
   "id": "ea0aaa14",
   "metadata": {},
   "outputs": [
    {
     "data": {
      "text/plain": [
       "'Hello '"
      ]
     },
     "execution_count": 8,
     "metadata": {},
     "output_type": "execute_result"
    }
   ],
   "source": [
    "def echo(data):\n",
    "    return data\n",
    "echo(\"Hello \")"
   ]
  },
  {
   "cell_type": "code",
   "execution_count": 9,
   "id": "b8101378",
   "metadata": {},
   "outputs": [
    {
     "data": {
      "text/plain": [
       "5"
      ]
     },
     "execution_count": 9,
     "metadata": {},
     "output_type": "execute_result"
    }
   ],
   "source": [
    "echo(5)"
   ]
  },
  {
   "cell_type": "markdown",
   "id": "5e46b2db",
   "metadata": {},
   "source": [
    "### Practice1 Favorite Book: Write a function called favorite_book() that accepts one parameter, title. \n",
    "The function should print a message, such as One of my\n",
    "favorite books is Alice in Wonderland. Call the function, making sure to\n",
    "include a book title as an argument in the function call."
   ]
  },
  {
   "cell_type": "code",
   "execution_count": 10,
   "id": "870ecaf6",
   "metadata": {},
   "outputs": [],
   "source": [
    "def favorite_book(title):\n",
    "    print(title+\" is one of my favorite books\")"
   ]
  },
  {
   "cell_type": "code",
   "execution_count": 11,
   "id": "1e68f1de",
   "metadata": {},
   "outputs": [
    {
     "name": "stdout",
     "output_type": "stream",
     "text": [
      "Alice in Wonderland is one of my favorite books\n"
     ]
    }
   ],
   "source": [
    "favorite_book(\"Alice in Wonderland\")"
   ]
  },
  {
   "cell_type": "code",
   "execution_count": 12,
   "id": "8275fb68",
   "metadata": {},
   "outputs": [],
   "source": [
    "def favorite_book1(title):\n",
    "    message=title+\" is one of my favorite books\"\n",
    "    return(message)"
   ]
  },
  {
   "cell_type": "code",
   "execution_count": 13,
   "id": "df25d889",
   "metadata": {},
   "outputs": [
    {
     "data": {
      "text/plain": [
       "'Programming is one of my favorite books'"
      ]
     },
     "execution_count": 13,
     "metadata": {},
     "output_type": "execute_result"
    }
   ],
   "source": [
    "favorite_book1(\"Programming\")"
   ]
  },
  {
   "cell_type": "markdown",
   "id": "83d0088a",
   "metadata": {},
   "source": [
    "### Functions with Multiple Parameters\n",
    "* `calc_MPG` function that determines the MPG from miles driven and gallons used"
   ]
  },
  {
   "cell_type": "code",
   "execution_count": 14,
   "id": "f14fae77",
   "metadata": {},
   "outputs": [],
   "source": [
    "def calc_MPG(miles_driven, gallons_used):\n",
    "    return(miles_driven/gallons_used)"
   ]
  },
  {
   "cell_type": "code",
   "execution_count": 15,
   "id": "7d48970b",
   "metadata": {},
   "outputs": [
    {
     "data": {
      "text/plain": [
       "33.333333333333336"
      ]
     },
     "execution_count": 15,
     "metadata": {},
     "output_type": "execute_result"
    }
   ],
   "source": [
    "calc_MPG(100,3)"
   ]
  },
  {
   "cell_type": "code",
   "execution_count": 16,
   "id": "7367735a",
   "metadata": {},
   "outputs": [
    {
     "data": {
      "text/plain": [
       "40.0"
      ]
     },
     "execution_count": 16,
     "metadata": {},
     "output_type": "execute_result"
    }
   ],
   "source": [
    "calc_MPG(200,5)"
   ]
  },
  {
   "cell_type": "markdown",
   "id": "b5e05036",
   "metadata": {},
   "source": [
    "## Default Parameter\n",
    "With default parameters, you can specify a default value that will be used for the function. If you pass a parameter in for the default value, it uses that value instead. \n",
    "### def MPG(miles=200,gallon=12)"
   ]
  },
  {
   "cell_type": "code",
   "execution_count": 17,
   "id": "a9156436",
   "metadata": {},
   "outputs": [],
   "source": [
    "def MPG(miles_driven = 200, gallons_used = 12):\n",
    "    gallons_used=11\n",
    "    miles_driven=300\n",
    "    return (miles_driven/gallons_used)"
   ]
  },
  {
   "cell_type": "code",
   "execution_count": 18,
   "id": "3bf3a587",
   "metadata": {},
   "outputs": [
    {
     "data": {
      "text/plain": [
       "27.272727272727273"
      ]
     },
     "execution_count": 18,
     "metadata": {},
     "output_type": "execute_result"
    }
   ],
   "source": [
    "MPG()"
   ]
  },
  {
   "cell_type": "code",
   "execution_count": 19,
   "id": "030d81e5",
   "metadata": {},
   "outputs": [
    {
     "data": {
      "text/plain": [
       "27.272727272727273"
      ]
     },
     "execution_count": 19,
     "metadata": {},
     "output_type": "execute_result"
    }
   ],
   "source": [
    "MPG(miles_driven=500)"
   ]
  },
  {
   "cell_type": "markdown",
   "id": "c7f67792",
   "metadata": {},
   "source": [
    "###  Function repeat using `for` loop"
   ]
  },
  {
   "cell_type": "code",
   "execution_count": 20,
   "id": "d09506c0",
   "metadata": {},
   "outputs": [],
   "source": [
    "def repeat_echo(data, count):\n",
    "    for i in range(count):\n",
    "        print(data)"
   ]
  },
  {
   "cell_type": "code",
   "execution_count": 21,
   "id": "4ef5538f",
   "metadata": {},
   "outputs": [
    {
     "name": "stdout",
     "output_type": "stream",
     "text": [
      "2001 Newburg Road\n",
      "2001 Newburg Road\n",
      "2001 Newburg Road\n",
      "2001 Newburg Road\n",
      "2001 Newburg Road\n"
     ]
    }
   ],
   "source": [
    "repeat_echo(\"2001 Newburg Road\", 5)"
   ]
  },
  {
   "cell_type": "markdown",
   "id": "b3003a72",
   "metadata": {},
   "source": [
    "## Practice: Define a function called `name` and print your name 20 times using the function"
   ]
  },
  {
   "cell_type": "code",
   "execution_count": 22,
   "id": "74ecdff8",
   "metadata": {},
   "outputs": [],
   "source": [
    "def name(data, count):\n",
    "    for i in range(count):\n",
    "        print(data)"
   ]
  },
  {
   "cell_type": "code",
   "execution_count": 23,
   "id": "255cdef1",
   "metadata": {},
   "outputs": [
    {
     "name": "stdout",
     "output_type": "stream",
     "text": [
      "Leighann\n",
      "Leighann\n",
      "Leighann\n",
      "Leighann\n",
      "Leighann\n",
      "Leighann\n",
      "Leighann\n",
      "Leighann\n",
      "Leighann\n",
      "Leighann\n",
      "Leighann\n",
      "Leighann\n",
      "Leighann\n",
      "Leighann\n",
      "Leighann\n",
      "Leighann\n",
      "Leighann\n",
      "Leighann\n",
      "Leighann\n",
      "Leighann\n"
     ]
    }
   ],
   "source": [
    "name(\"Leighann\", 20)"
   ]
  },
  {
   "cell_type": "markdown",
   "id": "c9b50f99",
   "metadata": {},
   "source": [
    "### Write a function to find maximum of three values"
   ]
  },
  {
   "cell_type": "code",
   "execution_count": 24,
   "id": "99900dd8",
   "metadata": {},
   "outputs": [
    {
     "data": {
      "text/plain": [
       "78"
      ]
     },
     "execution_count": 24,
     "metadata": {},
     "output_type": "execute_result"
    }
   ],
   "source": [
    "max(23,56,78)"
   ]
  },
  {
   "cell_type": "code",
   "execution_count": 25,
   "id": "04b21d7f",
   "metadata": {},
   "outputs": [],
   "source": [
    "def maximum(a,b,c):\n",
    "    if a>b and a>c:\n",
    "        largest=a\n",
    "    elif (b>c):\n",
    "        largest=b\n",
    "    else:\n",
    "        largest=c\n",
    "    return largest"
   ]
  },
  {
   "cell_type": "code",
   "execution_count": 26,
   "id": "4b1abd74",
   "metadata": {},
   "outputs": [
    {
     "data": {
      "text/plain": [
       "45"
      ]
     },
     "execution_count": 26,
     "metadata": {},
     "output_type": "execute_result"
    }
   ],
   "source": [
    "maximum(23,45,12)"
   ]
  },
  {
   "cell_type": "code",
   "execution_count": 27,
   "id": "27ad2d42",
   "metadata": {},
   "outputs": [
    {
     "data": {
      "text/plain": [
       "89"
      ]
     },
     "execution_count": 27,
     "metadata": {},
     "output_type": "execute_result"
    }
   ],
   "source": [
    "maximum(45,12,89)"
   ]
  },
  {
   "cell_type": "code",
   "execution_count": 28,
   "id": "1a4bb905",
   "metadata": {},
   "outputs": [
    {
     "data": {
      "text/plain": [
       "89"
      ]
     },
     "execution_count": 28,
     "metadata": {},
     "output_type": "execute_result"
    }
   ],
   "source": [
    "maximum(67,89,12)"
   ]
  },
  {
   "cell_type": "markdown",
   "id": "1a8c15bd",
   "metadata": {},
   "source": [
    "### Practice Example: Define `minimum` function of three values"
   ]
  },
  {
   "cell_type": "code",
   "execution_count": 29,
   "id": "4d547ad4",
   "metadata": {},
   "outputs": [],
   "source": [
    "def minimum(a,b,c):\n",
    "    if a<b and a<c:\n",
    "        smallest=a\n",
    "    elif (b<c):\n",
    "        smallest=b\n",
    "    else:\n",
    "        smallest=c\n",
    "    return smallest"
   ]
  },
  {
   "cell_type": "code",
   "execution_count": 30,
   "id": "996fb196",
   "metadata": {},
   "outputs": [
    {
     "data": {
      "text/plain": [
       "7"
      ]
     },
     "execution_count": 30,
     "metadata": {},
     "output_type": "execute_result"
    }
   ],
   "source": [
    "minimum(45,12,7)"
   ]
  },
  {
   "cell_type": "code",
   "execution_count": 31,
   "id": "4ed0ce56",
   "metadata": {},
   "outputs": [
    {
     "data": {
      "text/plain": [
       "3"
      ]
     },
     "execution_count": 31,
     "metadata": {},
     "output_type": "execute_result"
    }
   ],
   "source": [
    "minimum(4,3,89)"
   ]
  },
  {
   "cell_type": "code",
   "execution_count": 32,
   "id": "758cc8cc",
   "metadata": {},
   "outputs": [
    {
     "data": {
      "text/plain": [
       "13"
      ]
     },
     "execution_count": 32,
     "metadata": {},
     "output_type": "execute_result"
    }
   ],
   "source": [
    "minimum(85,41,13)"
   ]
  },
  {
   "cell_type": "markdown",
   "id": "f20ad451",
   "metadata": {},
   "source": [
    "#  Arbitrary Argument Lists\n",
    "*  **`*args`**, indicating that the function can receive any number of additional arguments. \n",
    "* The `*` before the parameter name tells Python to pack any remaining arguments into a tuple that’s passed to the `args` parameter."
   ]
  },
  {
   "cell_type": "code",
   "execution_count": 33,
   "id": "cafe6bc8",
   "metadata": {},
   "outputs": [],
   "source": [
    "def addition(*args):\n",
    "    return sum(args)"
   ]
  },
  {
   "cell_type": "code",
   "execution_count": 34,
   "id": "e3973d4f",
   "metadata": {},
   "outputs": [
    {
     "data": {
      "text/plain": [
       "145"
      ]
     },
     "execution_count": 34,
     "metadata": {},
     "output_type": "execute_result"
    }
   ],
   "source": [
    "addition(10,23,45,67)"
   ]
  },
  {
   "cell_type": "code",
   "execution_count": 35,
   "id": "94b074e7",
   "metadata": {},
   "outputs": [
    {
     "data": {
      "text/plain": [
       "379"
      ]
     },
     "execution_count": 35,
     "metadata": {},
     "output_type": "execute_result"
    }
   ],
   "source": [
    "addition(34,67,23,12,89,67,87)"
   ]
  },
  {
   "cell_type": "code",
   "execution_count": 36,
   "id": "d08274d0",
   "metadata": {},
   "outputs": [],
   "source": [
    "# Average of Numbers\n",
    "def get_mean(*args):\n",
    "    return sum(args)/len(args)"
   ]
  },
  {
   "cell_type": "code",
   "execution_count": 37,
   "id": "3e780387",
   "metadata": {},
   "outputs": [
    {
     "data": {
      "text/plain": [
       "39.5"
      ]
     },
     "execution_count": 37,
     "metadata": {},
     "output_type": "execute_result"
    }
   ],
   "source": [
    "get_mean(23,23,45,67)"
   ]
  },
  {
   "cell_type": "code",
   "execution_count": 38,
   "id": "6a9000f5",
   "metadata": {},
   "outputs": [
    {
     "data": {
      "text/plain": [
       "5.5"
      ]
     },
     "execution_count": 38,
     "metadata": {},
     "output_type": "execute_result"
    }
   ],
   "source": [
    "get_mean(1,2,3,4,5,6,7,8,9,10)"
   ]
  },
  {
   "cell_type": "markdown",
   "id": "84b44203",
   "metadata": {},
   "source": [
    "### Arbitary Argumented list with list"
   ]
  },
  {
   "cell_type": "code",
   "execution_count": 39,
   "id": "e4f2f56d",
   "metadata": {},
   "outputs": [
    {
     "data": {
      "text/plain": [
       "66.75"
      ]
     },
     "execution_count": 39,
     "metadata": {},
     "output_type": "execute_result"
    }
   ],
   "source": [
    "numbers=[34,56,78,99]\n",
    "get_mean(*numbers)"
   ]
  },
  {
   "cell_type": "markdown",
   "id": "688d1f13",
   "metadata": {},
   "source": [
    "### More about functions\n",
    "In this session we looked at the concept of `scope`, working with `random numbers`, `statictics` and using various versions of import to work with different functions in module."
   ]
  },
  {
   "cell_type": "markdown",
   "id": "d21db560",
   "metadata": {},
   "source": [
    "### Scope\n",
    "* Each identifier has a `scope` that determines where you can use it in your program.\n",
    "\n",
    "* A local variable’s identifier has **local scope**. \n",
    "\n",
    "* Identifiers defined outside any function (or class) have **global scope**—these may include functions, variables and classes."
   ]
  },
  {
   "cell_type": "markdown",
   "id": "d8e69b30",
   "metadata": {},
   "source": [
    "One thing you don't want to do is create a variable and function with the same name. The variable will \"hide\" the function and prevent you from calling it. If you execute the cell below it will throw an error."
   ]
  },
  {
   "cell_type": "code",
   "execution_count": 40,
   "id": "440ef670",
   "metadata": {},
   "outputs": [
    {
     "data": {
      "text/plain": [
       "40"
      ]
     },
     "execution_count": 40,
     "metadata": {},
     "output_type": "execute_result"
    }
   ],
   "source": [
    "x=10 # Global variable\n",
    "def scope_of_function(num):\n",
    "    return num*2  # num is a local variable\n",
    "scope_of_function(20)"
   ]
  },
  {
   "cell_type": "code",
   "execution_count": 41,
   "id": "27427b65",
   "metadata": {},
   "outputs": [
    {
     "data": {
      "text/plain": [
       "20"
      ]
     },
     "execution_count": 41,
     "metadata": {},
     "output_type": "execute_result"
    }
   ],
   "source": [
    "scope_of_function(10)"
   ]
  },
  {
   "cell_type": "markdown",
   "id": "1a55bc5e",
   "metadata": {},
   "source": [
    "* By default, you cannot _modify_ a global variable in a function\n",
    "* Python creates a **new local variable** when you first assign a value to a variable in a function’s block.\n",
    "* In function `try_to_modify_global`’s block, the local `x` **shadows** the global `x`, making it inaccessible in the scope of the function’s block. "
   ]
  },
  {
   "cell_type": "code",
   "execution_count": 42,
   "id": "f2dd1ab9",
   "metadata": {},
   "outputs": [
    {
     "name": "stdout",
     "output_type": "stream",
     "text": [
      "3.5\n"
     ]
    }
   ],
   "source": [
    "x=10\n",
    "def try_to_modify_global():\n",
    "    x=3.5\n",
    "    print(x)\n",
    "try_to_modify_global()"
   ]
  },
  {
   "cell_type": "code",
   "execution_count": 43,
   "id": "292c4ed5",
   "metadata": {},
   "outputs": [
    {
     "data": {
      "text/plain": [
       "10"
      ]
     },
     "execution_count": 43,
     "metadata": {},
     "output_type": "execute_result"
    }
   ],
   "source": [
    "x"
   ]
  },
  {
   "cell_type": "markdown",
   "id": "3023353c",
   "metadata": {},
   "source": [
    "* To modify a global variable in a function’s block, you must use a **`global`** statement to declare that the variable is defined in the global scope: \"modify_global\""
   ]
  },
  {
   "cell_type": "code",
   "execution_count": 44,
   "id": "7848deca",
   "metadata": {},
   "outputs": [
    {
     "name": "stdout",
     "output_type": "stream",
     "text": [
      "3.5\n"
     ]
    }
   ],
   "source": [
    "x=10\n",
    "def modify_global():\n",
    "    global x\n",
    "    x=3.5\n",
    "    print(x)\n",
    "modify_global()"
   ]
  },
  {
   "cell_type": "code",
   "execution_count": 45,
   "id": "ad58975d",
   "metadata": {},
   "outputs": [
    {
     "data": {
      "text/plain": [
       "3.5"
      ]
     },
     "execution_count": 45,
     "metadata": {},
     "output_type": "execute_result"
    }
   ],
   "source": [
    "x"
   ]
  },
  {
   "cell_type": "markdown",
   "id": "109a13bb",
   "metadata": {},
   "source": [
    "## Write functions to find out Area and Perimeter of circle"
   ]
  },
  {
   "cell_type": "code",
   "execution_count": 46,
   "id": "41b7edfe",
   "metadata": {
    "scrolled": true
   },
   "outputs": [
    {
     "data": {
      "text/plain": [
       "3.141592653589793"
      ]
     },
     "execution_count": 46,
     "metadata": {},
     "output_type": "execute_result"
    }
   ],
   "source": [
    "from math import pi\n",
    "pi"
   ]
  },
  {
   "cell_type": "code",
   "execution_count": 47,
   "id": "502ef4d4",
   "metadata": {},
   "outputs": [
    {
     "name": "stdout",
     "output_type": "stream",
     "text": [
      "Enter the value of r: 10\n",
      "The area of the circle is  314.1592653589793\n",
      "The perimeter of the circle is  62.83185307179586\n"
     ]
    }
   ],
   "source": [
    "def area_circle(r):\n",
    "    return pi*(r**2)\n",
    "def peri_circle(r):\n",
    "    return 2*pi*r\n",
    "radius=int(input(\"Enter the value of r: \"))\n",
    "print(\"The area of the circle is \", area_circle(radius))\n",
    "\n",
    "print(\"The perimeter of the circle is \", peri_circle(radius))"
   ]
  },
  {
   "cell_type": "markdown",
   "id": "df6f51b1",
   "metadata": {},
   "source": [
    "## Write functions to find out Area and Perimeter of rectangle"
   ]
  },
  {
   "cell_type": "code",
   "execution_count": 48,
   "id": "d3b789f5",
   "metadata": {},
   "outputs": [
    {
     "name": "stdout",
     "output_type": "stream",
     "text": [
      "The height of the rectangle: 15\n",
      "The width of the rectangle: 20\n",
      "The area of the rectangle is  300\n",
      "Perimeter of the rectangle is  70\n"
     ]
    }
   ],
   "source": [
    "def area_rect(h,w):\n",
    "    return h*w\n",
    "def peri_rect(h,w):\n",
    "    return (2*h)+(2*w)\n",
    "height=int(input(\"The height of the rectangle: \"))\n",
    "width=int(input(\"The width of the rectangle: \"))\n",
    "print(\"The area of the rectangle is \", area_rect(height,width))\n",
    "print(\"Perimeter of the rectangle is \", peri_rect(height,width))"
   ]
  },
  {
   "cell_type": "markdown",
   "id": "a8278db5",
   "metadata": {},
   "source": [
    "## Random Number Generation\n",
    "* Can introduce the element of chance via the Python Standard Library’s `random` module. "
   ]
  },
  {
   "cell_type": "markdown",
   "id": "bc0d1543",
   "metadata": {},
   "source": [
    "* `randrange` function generates an integer from the first argument value up to, but not including, the second argument value.\n",
    "* Different values are displayed if you re-execute the loop.\n",
    "* random.randrange where `random` is module and `randrange` is method"
   ]
  },
  {
   "cell_type": "code",
   "execution_count": 49,
   "id": "c79442cd",
   "metadata": {},
   "outputs": [
    {
     "name": "stdout",
     "output_type": "stream",
     "text": [
      "15\n"
     ]
    }
   ],
   "source": [
    "import random\n",
    "x=random.randrange(10,20)\n",
    "print(x)"
   ]
  },
  {
   "cell_type": "code",
   "execution_count": 52,
   "id": "13845d5d",
   "metadata": {},
   "outputs": [
    {
     "name": "stdout",
     "output_type": "stream",
     "text": [
      "4\n",
      "10\n",
      "14\n",
      "13\n",
      "13\n",
      "18\n",
      "19\n",
      "11\n",
      "1\n",
      "19\n",
      "[4, 10, 14, 13, 13, 18, 19, 11, 1, 19]\n"
     ]
    }
   ],
   "source": [
    "# Filling an empty list with random numbers\n",
    "List=[]\n",
    "for i in range(10): # 10 entries to the list\n",
    "    x=random.randrange(1,20) # numbers in between 1 to 19 included\n",
    "    List.append(x)\n",
    "    print(x)\n",
    "print(List)"
   ]
  },
  {
   "cell_type": "markdown",
   "id": "f1e293e1",
   "metadata": {},
   "source": [
    "## Create a list of 20 numbers in the range of 30 to 50"
   ]
  },
  {
   "cell_type": "code",
   "execution_count": 53,
   "id": "aebdaaf7",
   "metadata": {},
   "outputs": [
    {
     "name": "stdout",
     "output_type": "stream",
     "text": [
      "42\n",
      "41\n",
      "49\n",
      "49\n",
      "30\n",
      "36\n",
      "31\n",
      "36\n",
      "32\n",
      "43\n",
      "40\n",
      "40\n",
      "42\n",
      "48\n",
      "42\n",
      "38\n",
      "43\n",
      "46\n",
      "31\n",
      "39\n",
      "[42, 41, 49, 49, 30, 36, 31, 36, 32, 43, 40, 40, 42, 48, 42, 38, 43, 46, 31, 39]\n"
     ]
    }
   ],
   "source": [
    "List2=[]\n",
    "for i in range(20):\n",
    "    x=random.randrange(30,51)\n",
    "    List2.append(x)\n",
    "    print(x)\n",
    "print(List2)"
   ]
  },
  {
   "cell_type": "markdown",
   "id": "333c6712",
   "metadata": {},
   "source": [
    "## Print 20 numbers in the range of 30 to 50"
   ]
  },
  {
   "cell_type": "code",
   "execution_count": 58,
   "id": "9b1313e1",
   "metadata": {},
   "outputs": [
    {
     "name": "stdout",
     "output_type": "stream",
     "text": [
      "[42, 41, 49, 49, 30, 36, 31, 36, 32, 43, 40, 40, 42, 48, 42, 38, 43, 46, 31, 39]\n"
     ]
    }
   ],
   "source": [
    "print(List2)"
   ]
  },
  {
   "cell_type": "markdown",
   "id": "a58727b8",
   "metadata": {},
   "source": [
    "### Guess the number between 1 to 10"
   ]
  },
  {
   "cell_type": "code",
   "execution_count": 57,
   "id": "49a5f690",
   "metadata": {},
   "outputs": [
    {
     "name": "stdout",
     "output_type": "stream",
     "text": [
      "Enter a number between 1 to 10: 5\n",
      "Try again\n",
      "Enter a number between 1 to 10: 4\n",
      "Try again\n",
      "Enter a number between 1 to 10: 7\n",
      "Try again\n",
      "Enter a number between 1 to 10: 10\n",
      "You won You took 3 chances\n"
     ]
    }
   ],
   "source": [
    "import random\n",
    "number=random.randint(1,10) # randint 10 is included\n",
    "entered_number=None\n",
    "time=0\n",
    "\n",
    "while entered_number!=number:\n",
    "    entered_number= int(input(\"Enter a number between 1 to 10: \"))\n",
    "    if entered_number==number:\n",
    "        print(\"You won\", \"You took\", time, \"chances\")\n",
    "    else:\n",
    "        print(\"Try again\")\n",
    "    time=time+1"
   ]
  }
 ],
 "metadata": {
  "kernelspec": {
   "display_name": "Python 3 (ipykernel)",
   "language": "python",
   "name": "python3"
  },
  "language_info": {
   "codemirror_mode": {
    "name": "ipython",
    "version": 3
   },
   "file_extension": ".py",
   "mimetype": "text/x-python",
   "name": "python",
   "nbconvert_exporter": "python",
   "pygments_lexer": "ipython3",
   "version": "3.9.12"
  }
 },
 "nbformat": 4,
 "nbformat_minor": 5
}
